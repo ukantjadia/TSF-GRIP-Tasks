{
 "cells": [
  {
   "attachments": {},
   "cell_type": "markdown",
   "metadata": {},
   "source": [
    "# The Demo file contain the all possible code chunk required for impletation of algorithm\n",
    " This will contain the only simple application of machine learning algorithm"
   ]
  },
  {
   "attachments": {},
   "cell_type": "markdown",
   "metadata": {},
   "source": [
    "## Content\n",
    "- Collect Required Library\n",
    "- Collect Data\n",
    "- Pre-Process the data\n",
    "- ML Modling "
   ]
  },
  {
   "cell_type": "markdown",
   "metadata": {},
   "source": [
    "## Access Libraries"
   ]
  },
  {
   "attachments": {},
   "cell_type": "markdown",
   "metadata": {},
   "source": [
    "Access the sutaible library used for prediction/classification.\n",
    "Importing library at one place is helpful to manage and easy to understand by other geeks also."
   ]
  },
  {
   "cell_type": "markdown",
   "metadata": {},
   "source": [
    "## Access Data"
   ]
  },
  {
   "attachments": {},
   "cell_type": "markdown",
   "metadata": {},
   "source": [
    "Access the data from prefered source and site.\n",
    "Store it in DataFrame using pandas."
   ]
  },
  {
   "cell_type": "markdown",
   "metadata": {},
   "source": [
    "## Pre-process the Data\n"
   ]
  },
  {
   "attachments": {},
   "cell_type": "markdown",
   "metadata": {},
   "source": [
    "Check below points in data:\n",
    "1. Anamolies\n",
    "1. Null Values\n",
    "2. Duplicate Values\n",
    "3. Outlier\n",
    "5. Minimum, Maximum, Mean, Mode"
   ]
  },
  {
   "attachments": {},
   "cell_type": "markdown",
   "metadata": {},
   "source": [
    "## ML Modling"
   ]
  },
  {
   "attachments": {},
   "cell_type": "markdown",
   "metadata": {},
   "source": [
    "Select the ML Algorithm based on the properties of independent and dependent variable.\n",
    "Categorical independent variable then, use Classification algorithm like: DecisionTree, SVM, Ensambleing, Naive Bayes, jJ \n",
    "Continous independent variable then, use Prediction algorithm like: Regression, SVM,  xgboost"
   ]
  }
 ],
 "metadata": {
  "kernelspec": {
   "display_name": "idp",
   "language": "python",
   "name": "python3"
  },
  "language_info": {
   "name": "python",
   "version": "3.7.12"
  },
  "orig_nbformat": 4
 },
 "nbformat": 4,
 "nbformat_minor": 2
}
