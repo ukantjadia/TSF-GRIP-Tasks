{
 "cells": [
  {
   "cell_type": "code",
   "execution_count": 2,
   "metadata": {},
   "outputs": [],
   "source": [
    "## Import key Projects\n",
    "\n",
    "## for data handling\n",
    "import pandas as pd\n",
    "import numpy as np \n",
    "from skimpy import skim\n",
    "from scipy.stats import skew\n",
    "from scipy.stats import kurtosis as krt\n",
    "\n",
    "# for data visualization\n",
    "import matplotlib.pyplot as plt \n",
    "import seaborn as sns \n",
    "from IPython.display import display\n",
    "\n",
    "## For handling warnign\n",
    "import warnings\n",
    "warnings.filterwarnings(\"ignore\", category=FutureWarning)"
   ]
  },
  {
   "cell_type": "code",
   "execution_count": 3,
   "metadata": {},
   "outputs": [
    {
     "name": "stdout",
     "output_type": "stream",
     "text": [
      "<class 'pandas.core.frame.DataFrame'>\n",
      "RangeIndex: 9994 entries, 0 to 9993\n",
      "Data columns (total 13 columns):\n",
      " #   Column        Non-Null Count  Dtype  \n",
      "---  ------        --------------  -----  \n",
      " 0   Ship Mode     9994 non-null   object \n",
      " 1   Segment       9994 non-null   object \n",
      " 2   Country       9994 non-null   object \n",
      " 3   City          9994 non-null   object \n",
      " 4   State         9994 non-null   object \n",
      " 5   Postal Code   9994 non-null   int64  \n",
      " 6   Region        9994 non-null   object \n",
      " 7   Category      9994 non-null   object \n",
      " 8   Sub-Category  9994 non-null   object \n",
      " 9   Sales         9994 non-null   float64\n",
      " 10  Quantity      9994 non-null   int64  \n",
      " 11  Discount      9994 non-null   float64\n",
      " 12  Profit        9994 non-null   float64\n",
      "dtypes: float64(3), int64(2), object(8)\n",
      "memory usage: 1015.1+ KB\n"
     ]
    }
   ],
   "source": [
    "## Information of the dataset\n",
    "\n",
    "df = pd.read_csv('SampleSuperstore.csv')\n",
    "df.info()"
   ]
  },
  {
   "attachments": {},
   "cell_type": "markdown",
   "metadata": {},
   "source": [
    "### Observation\n",
    "- we could see that the features and its data type, along with Null count\n",
    "- We have zero null-count in our dataset\n",
    "- DataType table below\n",
    "\n",
    "| Data Type |Features|\n",
    "|:----------:|:-----------:|\n",
    "|int64(Continuous) | Postal Code, Quantity | \n",
    "|float64(Continuous) | Sales, Discount, Profit|\n",
    "|object(Categorical) | Ship Mode, Segment, Country, City, State, Region, Category, Sub-Category |"
   ]
  },
  {
   "cell_type": "code",
   "execution_count": 4,
   "metadata": {},
   "outputs": [
    {
     "name": "stdout",
     "output_type": "stream",
     "text": [
      "Unique count in  Ship Mode  is  4  and values:  ['Second Class' 'Standard Class' 'First Class' 'Same Day'] . \n",
      "\n",
      "Unique count in  Segment  is  3  and values:  ['Consumer' 'Corporate' 'Home Office'] . \n",
      "\n",
      "Unique count in  Country  is  1  and values:  ['United States'] . \n",
      "\n",
      "Unique count in  Region  is  4  and values:  ['South' 'West' 'Central' 'East'] . \n",
      "\n",
      "Unique count in  Category  is  3  and values:  ['Furniture' 'Office Supplies' 'Technology'] . \n",
      "\n",
      "Unique count in  Sub-Category  is  17  and values:  ['Bookcases' 'Chairs' 'Labels' 'Tables' 'Storage' 'Furnishings' 'Art'\n",
      " 'Phones' 'Binders' 'Appliances' 'Paper' 'Accessories' 'Envelopes'\n",
      " 'Fasteners' 'Supplies' 'Machines' 'Copiers'] . \n",
      "\n",
      "Unique values in Postal Code is : 631\n",
      "Unique values in City is : 531\n",
      "Unique values in State is : 49\n"
     ]
    }
   ],
   "source": [
    "## Data Cleaning/ Wrangling \n",
    "\n",
    "## 1. Unique values in features with object datatype\n",
    "obj_name = ['Ship Mode','Segment','Country','Region','Category','Sub-Category']\n",
    "num_name = ['Quantity','Sales','Discount','Profit']\n",
    "\n",
    "unique_values = lambda  :[ print(\"Unique count in \",obj_name[i],\" is \",len(df[obj_name[i]].unique()),\" and values: \",df[obj_name[i]].unique(),\". \\n\") for i in range(len(obj_name))]\n",
    "\n",
    "unique_values()\n",
    "print(\"Unique values in Postal Code is :\" , len(df['Postal Code'].unique()))\n",
    "print(\"Unique values in City is :\" , len(df['City'].unique()))\n",
    "print(\"Unique values in State is :\" , len(df['State'].unique()))"
   ]
  },
  {
   "attachments": {},
   "cell_type": "markdown",
   "metadata": {},
   "source": [
    "### Observation\n",
    "- As Store Manager \n",
    "  - We have orders from __**1 country, 531 cites,with 631 postal code and 49 states  with all 4 region, with 3 main category and 17 sub-category to 3 main segments placed with 4 different ship modes**__."
   ]
  },
  {
   "cell_type": "code",
   "execution_count": 5,
   "metadata": {},
   "outputs": [
    {
     "data": {
      "text/html": [
       "<pre style=\"white-space:pre;overflow-x:auto;line-height:normal;font-family:Menlo,'DejaVu Sans Mono',consolas,'Courier New',monospace\">╭───────────────────────────────────── skimpy summary ──────────────────────────────────────╮\n",
       "│ <span style=\"font-style: italic\">         Data Summary         </span> <span style=\"font-style: italic\">      Data Types       </span>                                    │\n",
       "│ ┏━━━━━━━━━━━━━━━━━━━┳━━━━━━━━┓ ┏━━━━━━━━━━━━━┳━━━━━━━┓                                    │\n",
       "│ ┃<span style=\"color: #008080; text-decoration-color: #008080; font-weight: bold\"> dataframe         </span>┃<span style=\"color: #008080; text-decoration-color: #008080; font-weight: bold\"> Values </span>┃ ┃<span style=\"color: #008080; text-decoration-color: #008080; font-weight: bold\"> Column Type </span>┃<span style=\"color: #008080; text-decoration-color: #008080; font-weight: bold\"> Count </span>┃                                    │\n",
       "│ ┡━━━━━━━━━━━━━━━━━━━╇━━━━━━━━┩ ┡━━━━━━━━━━━━━╇━━━━━━━┩                                    │\n",
       "│ │ Number of rows    │ 9994   │ │ object      │ 8     │                                    │\n",
       "│ │ Number of columns │ 13     │ │ float64     │ 3     │                                    │\n",
       "│ └───────────────────┴────────┘ │ int64       │ 2     │                                    │\n",
       "│                                └─────────────┴───────┘                                    │\n",
       "│ <span style=\"font-style: italic\">                                         number                                         </span>  │\n",
       "│ ┏━━━━━━━━━┳━━━━━━━━━┳━━━━━━━━━┳━━━━━━━┳━━━━━━━┳━━━━━━━┳━━━━━━━┳━━━━━━━┳━━━━━━━┳━━━━━━━━┓  │\n",
       "│ ┃<span style=\"font-weight: bold\">         </span>┃<span style=\"font-weight: bold\"> missing </span>┃<span style=\"font-weight: bold\"> complet </span>┃<span style=\"font-weight: bold\"> mean  </span>┃<span style=\"font-weight: bold\"> sd    </span>┃<span style=\"font-weight: bold\"> p0    </span>┃<span style=\"font-weight: bold\"> p25   </span>┃<span style=\"font-weight: bold\"> p75   </span>┃<span style=\"font-weight: bold\"> p100  </span>┃<span style=\"font-weight: bold\"> hist   </span>┃  │\n",
       "│ ┃         ┃         ┃<span style=\"font-weight: bold\"> e rate  </span>┃       ┃       ┃       ┃       ┃       ┃       ┃        ┃  │\n",
       "│ ┡━━━━━━━━━╇━━━━━━━━━╇━━━━━━━━━╇━━━━━━━╇━━━━━━━╇━━━━━━━╇━━━━━━━╇━━━━━━━╇━━━━━━━╇━━━━━━━━┩  │\n",
       "│ │ <span style=\"color: #af87ff; text-decoration-color: #af87ff\">Postal </span> │ <span style=\"color: #008080; text-decoration-color: #008080\">      0</span> │ <span style=\"color: #008080; text-decoration-color: #008080\">      1</span> │ <span style=\"color: #008080; text-decoration-color: #008080\">55000</span> │ <span style=\"color: #008080; text-decoration-color: #008080\">32000</span> │ <span style=\"color: #008080; text-decoration-color: #008080\"> 1000</span> │ <span style=\"color: #008080; text-decoration-color: #008080\">23000</span> │ <span style=\"color: #008080; text-decoration-color: #008080\">90000</span> │ <span style=\"color: #008080; text-decoration-color: #008080\">99000</span> │ <span style=\"color: #008000; text-decoration-color: #008000\">▄▅▄▂▄█</span> │  │\n",
       "│ │ <span style=\"color: #af87ff; text-decoration-color: #af87ff\">Code   </span> │         │         │       │       │       │       │       │       │        │  │\n",
       "│ │ <span style=\"color: #af87ff; text-decoration-color: #af87ff\">Sales  </span> │ <span style=\"color: #008080; text-decoration-color: #008080\">      0</span> │ <span style=\"color: #008080; text-decoration-color: #008080\">      1</span> │ <span style=\"color: #008080; text-decoration-color: #008080\">  230</span> │ <span style=\"color: #008080; text-decoration-color: #008080\">  620</span> │ <span style=\"color: #008080; text-decoration-color: #008080\"> 0.44</span> │ <span style=\"color: #008080; text-decoration-color: #008080\">   17</span> │ <span style=\"color: #008080; text-decoration-color: #008080\">  210</span> │ <span style=\"color: #008080; text-decoration-color: #008080\">23000</span> │ <span style=\"color: #008000; text-decoration-color: #008000\">  █   </span> │  │\n",
       "│ │ <span style=\"color: #af87ff; text-decoration-color: #af87ff\">Quantit</span> │ <span style=\"color: #008080; text-decoration-color: #008080\">      0</span> │ <span style=\"color: #008080; text-decoration-color: #008080\">      1</span> │ <span style=\"color: #008080; text-decoration-color: #008080\">  3.8</span> │ <span style=\"color: #008080; text-decoration-color: #008080\">  2.2</span> │ <span style=\"color: #008080; text-decoration-color: #008080\">    1</span> │ <span style=\"color: #008080; text-decoration-color: #008080\">    2</span> │ <span style=\"color: #008080; text-decoration-color: #008080\">    5</span> │ <span style=\"color: #008080; text-decoration-color: #008080\">   14</span> │ <span style=\"color: #008000; text-decoration-color: #008000\"> █▃▂▁ </span> │  │\n",
       "│ │ <span style=\"color: #af87ff; text-decoration-color: #af87ff\">y      </span> │         │         │       │       │       │       │       │       │        │  │\n",
       "│ │ <span style=\"color: #af87ff; text-decoration-color: #af87ff\">Discoun</span> │ <span style=\"color: #008080; text-decoration-color: #008080\">      0</span> │ <span style=\"color: #008080; text-decoration-color: #008080\">      1</span> │ <span style=\"color: #008080; text-decoration-color: #008080\"> 0.16</span> │ <span style=\"color: #008080; text-decoration-color: #008080\"> 0.21</span> │ <span style=\"color: #008080; text-decoration-color: #008080\">    0</span> │ <span style=\"color: #008080; text-decoration-color: #008080\">    0</span> │ <span style=\"color: #008080; text-decoration-color: #008080\">  0.2</span> │ <span style=\"color: #008080; text-decoration-color: #008080\">  0.8</span> │ <span style=\"color: #008000; text-decoration-color: #008000\">█▆   ▁</span> │  │\n",
       "│ │ <span style=\"color: #af87ff; text-decoration-color: #af87ff\">t      </span> │         │         │       │       │       │       │       │       │        │  │\n",
       "│ │ <span style=\"color: #af87ff; text-decoration-color: #af87ff\">Profit </span> │ <span style=\"color: #008080; text-decoration-color: #008080\">      0</span> │ <span style=\"color: #008080; text-decoration-color: #008080\">      1</span> │ <span style=\"color: #008080; text-decoration-color: #008080\">   29</span> │ <span style=\"color: #008080; text-decoration-color: #008080\">  230</span> │ <span style=\"color: #008080; text-decoration-color: #008080\">-6600</span> │ <span style=\"color: #008080; text-decoration-color: #008080\">  1.7</span> │ <span style=\"color: #008080; text-decoration-color: #008080\">   29</span> │ <span style=\"color: #008080; text-decoration-color: #008080\"> 8400</span> │ <span style=\"color: #008000; text-decoration-color: #008000\">   █  </span> │  │\n",
       "│ └─────────┴─────────┴─────────┴───────┴───────┴───────┴───────┴───────┴───────┴────────┘  │\n",
       "╰─────────────────────────────────────────── End ───────────────────────────────────────────╯\n",
       "</pre>\n"
      ],
      "text/plain": [
       "╭───────────────────────────────────── skimpy summary ──────────────────────────────────────╮\n",
       "│ \u001b[3m         Data Summary         \u001b[0m \u001b[3m      Data Types       \u001b[0m                                    │\n",
       "│ ┏━━━━━━━━━━━━━━━━━━━┳━━━━━━━━┓ ┏━━━━━━━━━━━━━┳━━━━━━━┓                                    │\n",
       "│ ┃\u001b[1;36m \u001b[0m\u001b[1;36mdataframe        \u001b[0m\u001b[1;36m \u001b[0m┃\u001b[1;36m \u001b[0m\u001b[1;36mValues\u001b[0m\u001b[1;36m \u001b[0m┃ ┃\u001b[1;36m \u001b[0m\u001b[1;36mColumn Type\u001b[0m\u001b[1;36m \u001b[0m┃\u001b[1;36m \u001b[0m\u001b[1;36mCount\u001b[0m\u001b[1;36m \u001b[0m┃                                    │\n",
       "│ ┡━━━━━━━━━━━━━━━━━━━╇━━━━━━━━┩ ┡━━━━━━━━━━━━━╇━━━━━━━┩                                    │\n",
       "│ │ Number of rows    │ 9994   │ │ object      │ 8     │                                    │\n",
       "│ │ Number of columns │ 13     │ │ float64     │ 3     │                                    │\n",
       "│ └───────────────────┴────────┘ │ int64       │ 2     │                                    │\n",
       "│                                └─────────────┴───────┘                                    │\n",
       "│ \u001b[3m                                         number                                         \u001b[0m  │\n",
       "│ ┏━━━━━━━━━┳━━━━━━━━━┳━━━━━━━━━┳━━━━━━━┳━━━━━━━┳━━━━━━━┳━━━━━━━┳━━━━━━━┳━━━━━━━┳━━━━━━━━┓  │\n",
       "│ ┃\u001b[1m \u001b[0m\u001b[1m       \u001b[0m\u001b[1m \u001b[0m┃\u001b[1m \u001b[0m\u001b[1mmissing\u001b[0m\u001b[1m \u001b[0m┃\u001b[1m \u001b[0m\u001b[1mcomplet\u001b[0m\u001b[1m \u001b[0m┃\u001b[1m \u001b[0m\u001b[1mmean \u001b[0m\u001b[1m \u001b[0m┃\u001b[1m \u001b[0m\u001b[1msd   \u001b[0m\u001b[1m \u001b[0m┃\u001b[1m \u001b[0m\u001b[1mp0   \u001b[0m\u001b[1m \u001b[0m┃\u001b[1m \u001b[0m\u001b[1mp25  \u001b[0m\u001b[1m \u001b[0m┃\u001b[1m \u001b[0m\u001b[1mp75  \u001b[0m\u001b[1m \u001b[0m┃\u001b[1m \u001b[0m\u001b[1mp100 \u001b[0m\u001b[1m \u001b[0m┃\u001b[1m \u001b[0m\u001b[1mhist  \u001b[0m\u001b[1m \u001b[0m┃  │\n",
       "│ ┃         ┃         ┃\u001b[1m \u001b[0m\u001b[1me rate \u001b[0m\u001b[1m \u001b[0m┃       ┃       ┃       ┃       ┃       ┃       ┃        ┃  │\n",
       "│ ┡━━━━━━━━━╇━━━━━━━━━╇━━━━━━━━━╇━━━━━━━╇━━━━━━━╇━━━━━━━╇━━━━━━━╇━━━━━━━╇━━━━━━━╇━━━━━━━━┩  │\n",
       "│ │ \u001b[38;5;141mPostal \u001b[0m │ \u001b[36m      0\u001b[0m │ \u001b[36m      1\u001b[0m │ \u001b[36m55000\u001b[0m │ \u001b[36m32000\u001b[0m │ \u001b[36m 1000\u001b[0m │ \u001b[36m23000\u001b[0m │ \u001b[36m90000\u001b[0m │ \u001b[36m99000\u001b[0m │ \u001b[32m▄▅▄▂▄█\u001b[0m │  │\n",
       "│ │ \u001b[38;5;141mCode   \u001b[0m │         │         │       │       │       │       │       │       │        │  │\n",
       "│ │ \u001b[38;5;141mSales  \u001b[0m │ \u001b[36m      0\u001b[0m │ \u001b[36m      1\u001b[0m │ \u001b[36m  230\u001b[0m │ \u001b[36m  620\u001b[0m │ \u001b[36m 0.44\u001b[0m │ \u001b[36m   17\u001b[0m │ \u001b[36m  210\u001b[0m │ \u001b[36m23000\u001b[0m │ \u001b[32m  █   \u001b[0m │  │\n",
       "│ │ \u001b[38;5;141mQuantit\u001b[0m │ \u001b[36m      0\u001b[0m │ \u001b[36m      1\u001b[0m │ \u001b[36m  3.8\u001b[0m │ \u001b[36m  2.2\u001b[0m │ \u001b[36m    1\u001b[0m │ \u001b[36m    2\u001b[0m │ \u001b[36m    5\u001b[0m │ \u001b[36m   14\u001b[0m │ \u001b[32m █▃▂▁ \u001b[0m │  │\n",
       "│ │ \u001b[38;5;141my      \u001b[0m │         │         │       │       │       │       │       │       │        │  │\n",
       "│ │ \u001b[38;5;141mDiscoun\u001b[0m │ \u001b[36m      0\u001b[0m │ \u001b[36m      1\u001b[0m │ \u001b[36m 0.16\u001b[0m │ \u001b[36m 0.21\u001b[0m │ \u001b[36m    0\u001b[0m │ \u001b[36m    0\u001b[0m │ \u001b[36m  0.2\u001b[0m │ \u001b[36m  0.8\u001b[0m │ \u001b[32m█▆   ▁\u001b[0m │  │\n",
       "│ │ \u001b[38;5;141mt      \u001b[0m │         │         │       │       │       │       │       │       │        │  │\n",
       "│ │ \u001b[38;5;141mProfit \u001b[0m │ \u001b[36m      0\u001b[0m │ \u001b[36m      1\u001b[0m │ \u001b[36m   29\u001b[0m │ \u001b[36m  230\u001b[0m │ \u001b[36m-6600\u001b[0m │ \u001b[36m  1.7\u001b[0m │ \u001b[36m   29\u001b[0m │ \u001b[36m 8400\u001b[0m │ \u001b[32m   █  \u001b[0m │  │\n",
       "│ └─────────┴─────────┴─────────┴───────┴───────┴───────┴───────┴───────┴───────┴────────┘  │\n",
       "╰─────────────────────────────────────────── End ───────────────────────────────────────────╯\n"
      ]
     },
     "metadata": {},
     "output_type": "display_data"
    },
    {
     "data": {
      "text/html": [
       "<div>\n",
       "<style scoped>\n",
       "    .dataframe tbody tr th:only-of-type {\n",
       "        vertical-align: middle;\n",
       "    }\n",
       "\n",
       "    .dataframe tbody tr th {\n",
       "        vertical-align: top;\n",
       "    }\n",
       "\n",
       "    .dataframe thead th {\n",
       "        text-align: right;\n",
       "    }\n",
       "</style>\n",
       "<table border=\"1\" class=\"dataframe\">\n",
       "  <thead>\n",
       "    <tr style=\"text-align: right;\">\n",
       "      <th></th>\n",
       "      <th>Postal Code</th>\n",
       "      <th>Sales</th>\n",
       "      <th>Quantity</th>\n",
       "      <th>Discount</th>\n",
       "      <th>Profit</th>\n",
       "    </tr>\n",
       "  </thead>\n",
       "  <tbody>\n",
       "    <tr>\n",
       "      <th>count</th>\n",
       "      <td>9994.00</td>\n",
       "      <td>9994.00</td>\n",
       "      <td>9994.00</td>\n",
       "      <td>9994.00</td>\n",
       "      <td>9994.00</td>\n",
       "    </tr>\n",
       "    <tr>\n",
       "      <th>mean</th>\n",
       "      <td>55190.38</td>\n",
       "      <td>229.86</td>\n",
       "      <td>3.79</td>\n",
       "      <td>0.16</td>\n",
       "      <td>28.66</td>\n",
       "    </tr>\n",
       "    <tr>\n",
       "      <th>std</th>\n",
       "      <td>32063.69</td>\n",
       "      <td>623.25</td>\n",
       "      <td>2.23</td>\n",
       "      <td>0.21</td>\n",
       "      <td>234.26</td>\n",
       "    </tr>\n",
       "    <tr>\n",
       "      <th>min</th>\n",
       "      <td>1040.00</td>\n",
       "      <td>0.44</td>\n",
       "      <td>1.00</td>\n",
       "      <td>0.00</td>\n",
       "      <td>-6599.98</td>\n",
       "    </tr>\n",
       "    <tr>\n",
       "      <th>25%</th>\n",
       "      <td>23223.00</td>\n",
       "      <td>17.28</td>\n",
       "      <td>2.00</td>\n",
       "      <td>0.00</td>\n",
       "      <td>1.73</td>\n",
       "    </tr>\n",
       "    <tr>\n",
       "      <th>50%</th>\n",
       "      <td>56430.50</td>\n",
       "      <td>54.49</td>\n",
       "      <td>3.00</td>\n",
       "      <td>0.20</td>\n",
       "      <td>8.67</td>\n",
       "    </tr>\n",
       "    <tr>\n",
       "      <th>75%</th>\n",
       "      <td>90008.00</td>\n",
       "      <td>209.94</td>\n",
       "      <td>5.00</td>\n",
       "      <td>0.20</td>\n",
       "      <td>29.36</td>\n",
       "    </tr>\n",
       "    <tr>\n",
       "      <th>max</th>\n",
       "      <td>99301.00</td>\n",
       "      <td>22638.48</td>\n",
       "      <td>14.00</td>\n",
       "      <td>0.80</td>\n",
       "      <td>8399.98</td>\n",
       "    </tr>\n",
       "  </tbody>\n",
       "</table>\n",
       "</div>"
      ],
      "text/plain": [
       "       Postal Code     Sales  Quantity  Discount   Profit\n",
       "count      9994.00   9994.00   9994.00   9994.00  9994.00\n",
       "mean      55190.38    229.86      3.79      0.16    28.66\n",
       "std       32063.69    623.25      2.23      0.21   234.26\n",
       "min        1040.00      0.44      1.00      0.00 -6599.98\n",
       "25%       23223.00     17.28      2.00      0.00     1.73\n",
       "50%       56430.50     54.49      3.00      0.20     8.67\n",
       "75%       90008.00    209.94      5.00      0.20    29.36\n",
       "max       99301.00  22638.48     14.00      0.80  8399.98"
      ]
     },
     "execution_count": 5,
     "metadata": {},
     "output_type": "execute_result"
    }
   ],
   "source": [
    "## Summary of Statics\n",
    "\n",
    "## Using skimpy for quick view of summary \n",
    "skim(df)\n",
    "\n",
    "df.describe().round(2)"
   ]
  },
  {
   "attachments": {},
   "cell_type": "markdown",
   "metadata": {},
   "source": [
    "### Observation\n",
    "- From above summary\n",
    "    - Sales and Profit contains more outiler than the outiler of Discount and Quantity.\n",
    "    - There is no null values are present in given data."
   ]
  },
  {
   "cell_type": "code",
   "execution_count": 6,
   "metadata": {},
   "outputs": [
    {
     "data": {
      "text/html": [
       "<div>\n",
       "<style scoped>\n",
       "    .dataframe tbody tr th:only-of-type {\n",
       "        vertical-align: middle;\n",
       "    }\n",
       "\n",
       "    .dataframe tbody tr th {\n",
       "        vertical-align: top;\n",
       "    }\n",
       "\n",
       "    .dataframe thead th {\n",
       "        text-align: right;\n",
       "    }\n",
       "</style>\n",
       "<table border=\"1\" class=\"dataframe\">\n",
       "  <thead>\n",
       "    <tr style=\"text-align: right;\">\n",
       "      <th></th>\n",
       "      <th>Features</th>\n",
       "      <th>Skewness</th>\n",
       "      <th>Kurtosis</th>\n",
       "    </tr>\n",
       "  </thead>\n",
       "  <tbody>\n",
       "    <tr>\n",
       "      <th>0</th>\n",
       "      <td>Quantity</td>\n",
       "      <td>1.278353</td>\n",
       "      <td>1.990293</td>\n",
       "    </tr>\n",
       "    <tr>\n",
       "      <th>1</th>\n",
       "      <td>Sales</td>\n",
       "      <td>12.970805</td>\n",
       "      <td>305.158427</td>\n",
       "    </tr>\n",
       "    <tr>\n",
       "      <th>2</th>\n",
       "      <td>Discount</td>\n",
       "      <td>1.684042</td>\n",
       "      <td>2.407740</td>\n",
       "    </tr>\n",
       "    <tr>\n",
       "      <th>3</th>\n",
       "      <td>Profit</td>\n",
       "      <td>7.560297</td>\n",
       "      <td>396.989229</td>\n",
       "    </tr>\n",
       "  </tbody>\n",
       "</table>\n",
       "</div>"
      ],
      "text/plain": [
       "   Features   Skewness    Kurtosis\n",
       "0  Quantity   1.278353    1.990293\n",
       "1     Sales  12.970805  305.158427\n",
       "2  Discount   1.684042    2.407740\n",
       "3    Profit   7.560297  396.989229"
      ]
     },
     "execution_count": 6,
     "metadata": {},
     "output_type": "execute_result"
    }
   ],
   "source": [
    "# Calculating skewness and kurtosis of Continuous feature(Sales,Quantity,Discount,Profit)\n",
    "\n",
    "skewness = []\n",
    "kurtos = []\n",
    "\n",
    "[skewness.append(skew(df[num_name[i]],bias=True)) for i in range(len(num_name))]\n",
    "\n",
    "[kurtos.append(krt(df[num_name[i]],bias=True)) for i in range(len(num_name))]\n",
    "\n",
    "ziped = list(zip(num_name,skewness,kurtos))\n",
    "df_stat = pd.DataFrame(ziped,columns=['Features','Skewness','Kurtosis'])\n",
    "df_stat"
   ]
  },
  {
   "attachments": {},
   "cell_type": "markdown",
   "metadata": {},
   "source": [
    "### Observation\n",
    "- As basic stats we know\n",
    "    - if skewness = 0 -> Normal ditribution\n",
    "    - if skewness > 0 -> Left tail distribution\n",
    "    - if skewness < 0 -> Right tail distribution\n",
    "\n",
    "    and\n",
    "\n",
    "    - if Kurtosis = 3 -> Normal distribution\n",
    "    - if kurtosis < 3 -> then it's called playkurtic(heavy-tailed)\n",
    "    - if kurtosis > 3 -> it's called leptokurtic and it tries to produce more outlier rather than normal distribution.\n",
    "\n",
    "- So, in comparison to other continuour variable `Sales` have **Huge Outlier** and **Heavly Tailed**. \n",
    "- **Quatity** is also contain  the hugre **outlier**."
   ]
  },
  {
   "cell_type": "code",
   "execution_count": 7,
   "metadata": {},
   "outputs": [
    {
     "data": {
      "text/plain": [
       "<Figure size 720x720 with 0 Axes>"
      ]
     },
     "metadata": {},
     "output_type": "display_data"
    },
    {
     "data": {
      "image/png": "[encoded data removed]",
      "text/plain": [
       "<Figure size 1080x432 with 2 Axes>"
      ]
     },
     "metadata": {
      "needs_background": "light"
     },
     "output_type": "display_data"
    },
    {
     "data": {
      "image/png": "[encoded data removed]",
      "text/plain": [
       "<Figure size 1080x432 with 2 Axes>"
      ]
     },
     "metadata": {
      "needs_background": "light"
     },
     "output_type": "display_data"
    }
   ],
   "source": [
    "## Univariate Analysis\n",
    "## For understanding single variable \n",
    "## Now we are doing the univariate analysis of our continous data\n",
    "\n",
    "plt.figure(figsize=(10,10))\n",
    "fig, ax = plt.subplots(1,2,figsize=(15,6))\n",
    "fig, ax1 = plt.subplots(1,2,figsize=(15,6))\n",
    "\n",
    "sns.distplot(df['Sales'],ax=ax[0])\n",
    "ax[0].title.set_text(\"Sales data\")\n",
    "sns.distplot(df['Quantity'],ax=ax[1])\n",
    "ax[1].title.set_text(\"Quantity data\")\n",
    "sns.distplot(df['Profit'],ax=ax1[0])\n",
    "ax1[0].title.set_text(\"Profit data\")\n",
    "sns.distplot(df['Discount'],ax=ax1[1])\n",
    "ax1[1].title.set_text(\"Discount Data\")\n",
    "\n",
    "plt.show()"
   ]
  },
  {
   "attachments": {},
   "cell_type": "markdown",
   "metadata": {},
   "source": [
    "### Observation\n",
    "From above visualization we can say that,\n",
    "- We are having high sales of value less than 5000. \n",
    "- The average of `Quantity` is 3-4. It means in most of the order we have 3 Quantity of product.\n",
    "-`Profit` is not very high for most of the product, and we can say `Profit` and `Discount` is related to each other.(the peak in both graph at low values only).\n",
    "- We are having `1.0-1.5` as our average of discount data.\n"
   ]
  },
  {
   "cell_type": "code",
   "execution_count": 8,
   "metadata": {},
   "outputs": [],
   "source": [
    "# ## Univariate analysis \n",
    "# ## For single varable \n",
    "# ## Doing univariate analysis for categorical variable\n",
    "# obj_name = ['Ship Mode','Segment','Country','Region','Category','Sub-Category']\n",
    "\n",
    "# fig, ax = plt.subplots(2,3,figsize=(22,12)) \n",
    "\n",
    "# # Region\n",
    "# sns.barplot(x = df['Region'].value_counts().index,y = df['Region'].value_counts(),data=df,ax=ax[0,1])\n",
    "# ax[0,1].set_xlabel('Region')\n",
    "# ax[0,1].set_ylabel('Density')\n",
    "# ax[0,1].set_title('Region')\n",
    "# # Quantity\n",
    "# sns.barplot(x = df['Quantity'].value_counts().index,y = df['Quantity'].value_counts(),ax=ax[0,0])\n",
    "# ax[0,0].set_xlabel('Quantity')\n",
    "# ax[0,0].set_ylabel('Density')\n",
    "# ax[0,0].set_title('Quantity')\n",
    "# # Sales\n",
    "# sns.barplot(x = df['Sales'].value_counts().index,y = df['Sales'].value_counts(),ax=ax[0,2])\n",
    "# ax[0,2].set_xlabel('Sales')\n",
    "# ax[0,2].set_ylabel('Density')\n",
    "# ax[0,2].set_title('Sales')\n",
    "# # Profit\n",
    "# sns.barplot(x = df['Profit'].value_counts().index,y = df['Profit'].value_counts(),ax=ax[1,0])\n",
    "# ax[1,0].set_xlabel('Profit')\n",
    "# ax[1,0].set_ylabel('Density')\n",
    "# ax[1,0].set_title('Profit')\n",
    "# # Discount\n",
    "# sns.barplot(x = df['Discount'].value_counts().index,y = df['Discount'].value_counts(),ax=ax[1,1])\n",
    "# ax[1,1].set_xlabel('Discount')\n",
    "# ax[1,1].set_ylabel('Density')\n",
    "# ax[1,1].set_title('Discount')\n",
    "# # Country \n",
    "# sns.barplot(x = df['Country'].value_counts().index , y = df['Country'].value_counts(),ax=ax[1,2])\n",
    "# ax[1,2].set_xlabel('Country')\n",
    "# ax[1,2].set_ylabel('Density')\n",
    "# ax[1,2].set_title('Country')\n",
    "\n",
    "# plt.show()\n",
    "# Some bar graph"
   ]
  },
  {
   "attachments": {},
   "cell_type": "markdown",
   "metadata": {},
   "source": [
    "Doing bivariate analysis \n",
    "Analysis for two or more variable in combination"
   ]
  },
  {
   "cell_type": "code",
   "execution_count": 32,
   "metadata": {},
   "outputs": [
    {
     "name": "stderr",
     "output_type": "stream",
     "text": [
      "c:\\Users\\user\\.conda\\envs\\idp\\lib\\site-packages\\ipykernel_launcher.py:2: DeprecationWarning: `np.bool` is a deprecated alias for the builtin `bool`. To silence this warning, use `bool` by itself. Doing this will not modify any behavior and is safe. If you specifically wanted the numpy scalar type, use `np.bool_` here.\n",
      "Deprecated in NumPy 1.20; for more details and guidance: https://numpy.org/devdocs/release/1.20.0-notes.html#deprecations\n",
      "  \n",
      "c:\\Users\\user\\.conda\\envs\\idp\\lib\\site-packages\\ipykernel_launcher.py:3: DeprecationWarning: `np.bool` is a deprecated alias for the builtin `bool`. To silence this warning, use `bool` by itself. Doing this will not modify any behavior and is safe. If you specifically wanted the numpy scalar type, use `np.bool_` here.\n",
      "Deprecated in NumPy 1.20; for more details and guidance: https://numpy.org/devdocs/release/1.20.0-notes.html#deprecations\n",
      "  This is separate from the ipykernel package so we can avoid doing imports until\n"
     ]
    }
   ],
   "source": [
    "# Corr in half traingle\n",
    "corr_df = df.corr()\n",
    "np.tril(np.ones(corr_df.shape)).astype(np.bool)\n",
    "corr_df_lower = corr_df.where(np.tril(np.ones(corr_df.shape)).astype(np.bool))"
   ]
  },
  {
   "cell_type": "code",
   "execution_count": 34,
   "metadata": {},
   "outputs": [
    {
     "data": {
      "image/png": "[encoded data removed]",
      "text/plain": [
       "<Figure size 648x432 with 2 Axes>"
      ]
     },
     "metadata": {
      "needs_background": "light"
     },
     "output_type": "display_data"
    }
   ],
   "source": [
    "## Correlation Heatmap for relation ship among features\n",
    "plt.figure(figsize=(9,6))\n",
    "sns.heatmap(corr_df_lower,annot=True)\n",
    "plt.show()"
   ]
  },
  {
   "attachments": {},
   "cell_type": "markdown",
   "metadata": {},
   "source": [
    "### Observation\n",
    "- Postal Code is just a geological code, So there is no relation of it with any other feature\n",
    "- From above graph we have following observation:\n",
    "    - `Discount` <-> `Profit`  and `Sales` <-> `Discount` both having the negative relation to each other.\n",
    "    - `Quantity` <-> `Profit` has the **Positive** relation, it means the more quantity in order, the more profit we have. and this is the similar case between the `Sales` <-> `Profit` and `Quatity` <-> `Discount` also.\n",
    "    - `Sales` <-> `Quantity` also has the **Positive** relation, means the more ordered quantity, the higher rate of selling."
   ]
  },
  {
   "cell_type": "code",
   "execution_count": 35,
   "metadata": {},
   "outputs": [
    {
     "data": {
      "image/png": "[encoded data removed]",
      "text/plain": [
       "<Figure size 936x576 with 6 Axes>"
      ]
     },
     "metadata": {
      "needs_background": "light"
     },
     "output_type": "display_data"
    }
   ],
   "source": [
    "df.hist(figsize=(13,8))\n",
    "plt.show()"
   ]
  },
  {
   "cell_type": "code",
   "execution_count": null,
   "metadata": {},
   "outputs": [
    {
     "data": {
      "text/html": [
       "<div>\n",
       "<style scoped>\n",
       "    .dataframe tbody tr th:only-of-type {\n",
       "        vertical-align: middle;\n",
       "    }\n",
       "\n",
       "    .dataframe tbody tr th {\n",
       "        vertical-align: top;\n",
       "    }\n",
       "\n",
       "    .dataframe thead th {\n",
       "        text-align: right;\n",
       "    }\n",
       "</style>\n",
       "<table border=\"1\" class=\"dataframe\">\n",
       "  <thead>\n",
       "    <tr style=\"text-align: right;\">\n",
       "      <th></th>\n",
       "      <th>Ship Mode</th>\n",
       "      <th>Segment</th>\n",
       "      <th>Country</th>\n",
       "      <th>City</th>\n",
       "      <th>State</th>\n",
       "      <th>Postal Code</th>\n",
       "      <th>Region</th>\n",
       "      <th>Category</th>\n",
       "      <th>Sub-Category</th>\n",
       "      <th>Sales</th>\n",
       "      <th>Quantity</th>\n",
       "      <th>Discount</th>\n",
       "      <th>Profit</th>\n",
       "    </tr>\n",
       "  </thead>\n",
       "  <tbody>\n",
       "    <tr>\n",
       "      <th>0</th>\n",
       "      <td>Second Class</td>\n",
       "      <td>Consumer</td>\n",
       "      <td>United States</td>\n",
       "      <td>Henderson</td>\n",
       "      <td>Kentucky</td>\n",
       "      <td>42420</td>\n",
       "      <td>South</td>\n",
       "      <td>Furniture</td>\n",
       "      <td>Bookcases</td>\n",
       "      <td>261.9600</td>\n",
       "      <td>2</td>\n",
       "      <td>0.00</td>\n",
       "      <td>41.9136</td>\n",
       "    </tr>\n",
       "    <tr>\n",
       "      <th>1</th>\n",
       "      <td>Second Class</td>\n",
       "      <td>Consumer</td>\n",
       "      <td>United States</td>\n",
       "      <td>Henderson</td>\n",
       "      <td>Kentucky</td>\n",
       "      <td>42420</td>\n",
       "      <td>South</td>\n",
       "      <td>Furniture</td>\n",
       "      <td>Chairs</td>\n",
       "      <td>731.9400</td>\n",
       "      <td>3</td>\n",
       "      <td>0.00</td>\n",
       "      <td>219.5820</td>\n",
       "    </tr>\n",
       "    <tr>\n",
       "      <th>2</th>\n",
       "      <td>Second Class</td>\n",
       "      <td>Corporate</td>\n",
       "      <td>United States</td>\n",
       "      <td>Los Angeles</td>\n",
       "      <td>California</td>\n",
       "      <td>90036</td>\n",
       "      <td>West</td>\n",
       "      <td>Office Supplies</td>\n",
       "      <td>Labels</td>\n",
       "      <td>14.6200</td>\n",
       "      <td>2</td>\n",
       "      <td>0.00</td>\n",
       "      <td>6.8714</td>\n",
       "    </tr>\n",
       "    <tr>\n",
       "      <th>3</th>\n",
       "      <td>Standard Class</td>\n",
       "      <td>Consumer</td>\n",
       "      <td>United States</td>\n",
       "      <td>Fort Lauderdale</td>\n",
       "      <td>Florida</td>\n",
       "      <td>33311</td>\n",
       "      <td>South</td>\n",
       "      <td>Furniture</td>\n",
       "      <td>Tables</td>\n",
       "      <td>957.5775</td>\n",
       "      <td>5</td>\n",
       "      <td>0.45</td>\n",
       "      <td>-383.0310</td>\n",
       "    </tr>\n",
       "    <tr>\n",
       "      <th>4</th>\n",
       "      <td>Standard Class</td>\n",
       "      <td>Consumer</td>\n",
       "      <td>United States</td>\n",
       "      <td>Fort Lauderdale</td>\n",
       "      <td>Florida</td>\n",
       "      <td>33311</td>\n",
       "      <td>South</td>\n",
       "      <td>Office Supplies</td>\n",
       "      <td>Storage</td>\n",
       "      <td>22.3680</td>\n",
       "      <td>2</td>\n",
       "      <td>0.20</td>\n",
       "      <td>2.5164</td>\n",
       "    </tr>\n",
       "  </tbody>\n",
       "</table>\n",
       "</div>"
      ],
      "text/plain": [
       "        Ship Mode    Segment        Country             City       State  \\\n",
       "0    Second Class   Consumer  United States        Henderson    Kentucky   \n",
       "1    Second Class   Consumer  United States        Henderson    Kentucky   \n",
       "2    Second Class  Corporate  United States      Los Angeles  California   \n",
       "3  Standard Class   Consumer  United States  Fort Lauderdale     Florida   \n",
       "4  Standard Class   Consumer  United States  Fort Lauderdale     Florida   \n",
       "\n",
       "   Postal Code Region         Category Sub-Category     Sales  Quantity  \\\n",
       "0        42420  South        Furniture    Bookcases  261.9600         2   \n",
       "1        42420  South        Furniture       Chairs  731.9400         3   \n",
       "2        90036   West  Office Supplies       Labels   14.6200         2   \n",
       "3        33311  South        Furniture       Tables  957.5775         5   \n",
       "4        33311  South  Office Supplies      Storage   22.3680         2   \n",
       "\n",
       "   Discount    Profit  \n",
       "0      0.00   41.9136  \n",
       "1      0.00  219.5820  \n",
       "2      0.00    6.8714  \n",
       "3      0.45 -383.0310  \n",
       "4      0.20    2.5164  "
      ]
     },
     "execution_count": 129,
     "metadata": {},
     "output_type": "execute_result"
    }
   ],
   "source": [
    "df.head()"
   ]
  },
  {
   "cell_type": "code",
   "execution_count": null,
   "metadata": {},
   "outputs": [
    {
     "name": "stderr",
     "output_type": "stream",
     "text": [
      "c:\\Users\\user\\.conda\\envs\\idp\\lib\\site-packages\\seaborn\\distributions.py:2619: FutureWarning: `distplot` is a deprecated function and will be removed in a future version. Please adapt your code to use either `displot` (a figure-level function with similar flexibility) or `histplot` (an axes-level function for histograms).\n",
      "  warnings.warn(msg, FutureWarning)\n"
     ]
    },
    {
     "data": {
      "image/png": "[encoded data removed]",
      "text/plain": [
       "<Figure size 432x288 with 1 Axes>"
      ]
     },
     "metadata": {
      "needs_background": "light"
     },
     "output_type": "display_data"
    }
   ],
   "source": [
    "## Univariate Analysis\n",
    "## Now we are doing the univariate analysis of our continous data\n",
    "\n",
    "# sns_plot = sns.boxplot(x=df['Sales'])\n",
    "# sns_plot = sns.distplot(df['Discount'])\n",
    "# sns.pairplot(df)   \n",
    "# sns_plot = sns.distplot(df['Profit'])j\n",
    "# plt.show()"
   ]
  }
 ],
 "metadata": {
  "kernelspec": {
   "display_name": "idp",
   "language": "python",
   "name": "python3"
  },
  "language_info": {
   "codemirror_mode": {
    "name": "ipython",
    "version": 3
   },
   "file_extension": ".py",
   "mimetype": "text/x-python",
   "name": "python",
   "nbconvert_exporter": "python",
   "pygments_lexer": "ipython3",
   "version": "3.7.12"
  },
  "orig_nbformat": 4
 },
 "nbformat": 4,
 "nbformat_minor": 2
}
